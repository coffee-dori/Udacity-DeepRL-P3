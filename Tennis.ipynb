{
 "cells": [
  {
   "cell_type": "markdown",
   "metadata": {},
   "source": [
    "# Collaboration and Competition\n",
    "\n",
    "---\n",
    "\n",
    "You are welcome to use this coding environment to train your agent for the project.  Follow the instructions below to get started!\n",
    "\n",
    "### 1. Start the Environment\n",
    "\n",
    "Run the next code cell to install a few packages.  This line will take a few minutes to run!"
   ]
  },
  {
   "cell_type": "code",
   "execution_count": 1,
   "metadata": {},
   "outputs": [
    {
     "name": "stdout",
     "output_type": "stream",
     "text": [
      "\u001b[31mtensorflow 1.7.1 has requirement numpy>=1.13.3, but you'll have numpy 1.12.1 which is incompatible.\u001b[0m\r\n",
      "\u001b[31mipython 6.5.0 has requirement prompt-toolkit<2.0.0,>=1.0.15, but you'll have prompt-toolkit 3.0.20 which is incompatible.\u001b[0m\r\n"
     ]
    }
   ],
   "source": [
    "!pip -q install ./python"
   ]
  },
  {
   "cell_type": "markdown",
   "metadata": {},
   "source": [
    "The environment is already saved in the Workspace and can be accessed at the file path provided below. "
   ]
  },
  {
   "cell_type": "code",
   "execution_count": 2,
   "metadata": {},
   "outputs": [
    {
     "name": "stderr",
     "output_type": "stream",
     "text": [
      "INFO:unityagents:\n",
      "'Academy' started successfully!\n",
      "Unity Academy name: Academy\n",
      "        Number of Brains: 1\n",
      "        Number of External Brains : 1\n",
      "        Lesson number : 0\n",
      "        Reset Parameters :\n",
      "\t\t\n",
      "Unity brain name: TennisBrain\n",
      "        Number of Visual Observations (per agent): 0\n",
      "        Vector Observation space type: continuous\n",
      "        Vector Observation space size (per agent): 8\n",
      "        Number of stacked Vector Observation: 3\n",
      "        Vector Action space type: continuous\n",
      "        Vector Action space size (per agent): 2\n",
      "        Vector Action descriptions: , \n"
     ]
    }
   ],
   "source": [
    "from unityagents import UnityEnvironment\n",
    "import numpy as np\n",
    "\n",
    "env = UnityEnvironment(file_name=\"/data/Tennis_Linux_NoVis/Tennis\")"
   ]
  },
  {
   "cell_type": "markdown",
   "metadata": {},
   "source": [
    "Environments contain **_brains_** which are responsible for deciding the actions of their associated agents. Here we check for the first brain available, and set it as the default brain we will be controlling from Python."
   ]
  },
  {
   "cell_type": "code",
   "execution_count": 3,
   "metadata": {},
   "outputs": [],
   "source": [
    "# get the default brain\n",
    "brain_name = env.brain_names[0]\n",
    "brain = env.brains[brain_name]"
   ]
  },
  {
   "cell_type": "markdown",
   "metadata": {},
   "source": [
    "### 2. Examine the State and Action Spaces\n",
    "\n",
    "Run the code cell below to print some information about the environment."
   ]
  },
  {
   "cell_type": "code",
   "execution_count": 4,
   "metadata": {},
   "outputs": [
    {
     "name": "stdout",
     "output_type": "stream",
     "text": [
      "Number of agents: 2\n",
      "Size of each action: 2\n",
      "There are 2 agents. Each observes a state with length: 24\n",
      "The state for the first agent looks like: [ 0.          0.          0.          0.          0.          0.          0.\n",
      "  0.          0.          0.          0.          0.          0.          0.\n",
      "  0.          0.         -6.65278625 -1.5        -0.          0.\n",
      "  6.83172083  6.         -0.          0.        ]\n"
     ]
    }
   ],
   "source": [
    "# reset the environment\n",
    "env_info = env.reset(train_mode=True)[brain_name]\n",
    "\n",
    "# number of agents \n",
    "num_agents = len(env_info.agents)\n",
    "print('Number of agents:', num_agents)\n",
    "\n",
    "# size of each action\n",
    "action_size = brain.vector_action_space_size\n",
    "print('Size of each action:', action_size)\n",
    "\n",
    "# examine the state space \n",
    "states = env_info.vector_observations\n",
    "state_size = states.shape[1]\n",
    "print('There are {} agents. Each observes a state with length: {}'.format(states.shape[0], state_size))\n",
    "print('The state for the first agent looks like:', states[0])"
   ]
  },
  {
   "cell_type": "markdown",
   "metadata": {},
   "source": [
    "### 3. Take Random Actions in the Environment\n",
    "\n",
    "In the next code cell, you will learn how to use the Python API to control the agent and receive feedback from the environment.\n",
    "\n",
    "Note that **in this coding environment, you will not be able to watch the agents while they are training**, and you should set `train_mode=True` to restart the environment."
   ]
  },
  {
   "cell_type": "code",
   "execution_count": 5,
   "metadata": {},
   "outputs": [],
   "source": [
    "# for i in range(5):                                         # play game for 5 episodes\n",
    "#     env_info = env.reset(train_mode=False)[brain_name]     # reset the environment    \n",
    "#     states = env_info.vector_observations                  # get the current state (for each agent)\n",
    "#     scores = np.zeros(num_agents)                          # initialize the score (for each agent)\n",
    "#     while True:\n",
    "#         actions = np.random.randn(num_agents, action_size) # select an action (for each agent)\n",
    "#         actions = np.clip(actions, -1, 1)                  # all actions between -1 and 1\n",
    "#         env_info = env.step(actions)[brain_name]           # send all actions to tne environment\n",
    "#         next_states = env_info.vector_observations         # get next state (for each agent)\n",
    "#         rewards = env_info.rewards                         # get reward (for each agent)\n",
    "#         dones = env_info.local_done                        # see if episode finished\n",
    "#         scores += env_info.rewards                         # update the score (for each agent)\n",
    "#         states = next_states                               # roll over states to next time step\n",
    "#         if np.any(dones):                                  # exit loop if episode finished\n",
    "#             break\n",
    "#     print('Total score (averaged over agents) this episode: {}'.format(np.mean(scores)))"
   ]
  },
  {
   "cell_type": "markdown",
   "metadata": {},
   "source": [
    "### 4. It's Your Turn!\n",
    "\n",
    "Now it's your turn to train your own agent to solve the environment!  A few **important notes**:\n",
    "- When training the environment, set `train_mode=True`, so that the line for resetting the environment looks like the following:\n",
    "```python\n",
    "env_info = env.reset(train_mode=True)[brain_name]\n",
    "```\n",
    "- To structure your work, you're welcome to work directly in this Jupyter notebook, or you might like to start over with a new file!  You can see the list of files in the workspace by clicking on **_Jupyter_** in the top left corner of the notebook.\n",
    "- In this coding environment, you will not be able to watch the agents while they are training.  However, **_after training the agents_**, you can download the saved model weights to watch the agents on your own machine! "
   ]
  },
  {
   "cell_type": "code",
   "execution_count": 6,
   "metadata": {},
   "outputs": [],
   "source": [
    "import random\n",
    "import time\n",
    "import torch\n",
    "\n",
    "import matplotlib.pyplot as plt\n",
    "%matplotlib inline\n",
    "\n",
    "from collections import deque\n",
    "from ddpg_agent import Agent\n",
    "\n",
    "from workspace_utils import active_session"
   ]
  },
  {
   "cell_type": "code",
   "execution_count": 7,
   "metadata": {},
   "outputs": [],
   "source": [
    "# DDPG function\n",
    "def ddpg(num_episodes=1000, max_t=1000, print_interval=10, actor_weights_name='actor.pth', critic_weights_name='critic.pth'):\n",
    "\n",
    "    \"\"\"Deep Deterministic Policy Gradient\n",
    "    \n",
    "    Params\n",
    "    ======\n",
    "    n_episodes (int): maximum number of training episodes\n",
    "    max_t (int): maximum number of timesteps per episode\n",
    "    \n",
    "    \"\"\"\n",
    "    \n",
    "    max_scores = [] # list of mean scores from each episode\n",
    "    avgs = [] # list of averages\n",
    "    best_score = -np.inf\n",
    "    scores_window = deque(maxlen=100) # mean score from last 100 episodes\n",
    "    \n",
    "    for i_episode in range(1, num_episodes + 1):\n",
    "        env_info = env.reset(train_mode=True)[brain_name] # reset environment\n",
    "        states = env_info.vector_observations # get current state for each observations\n",
    "        scores = np.zeros(num_agents) # initialize score for each agent\n",
    "        agent.reset()\n",
    "        start_time = time.time()\n",
    "        for t in range(max_t):\n",
    "            actions = agent.act(states, add_noise=True) # select an action\n",
    "            env_info = env.step(actions)[brain_name]  # send all actions to tne environment\n",
    "            next_states = env_info.vector_observations # get next state (for each agent)\n",
    "            rewards = env_info.rewards # get reward (for each agent)\n",
    "            dones = env_info.local_done # see if episode finished\n",
    "            # perform learning step\n",
    "            for state, action, reward, next_state, done in zip(states, actions, rewards, next_states, dones):\n",
    "                agent.step(state, action, reward, next_state, done, t)\n",
    "            states = next_states\n",
    "            scores += rewards\n",
    "            if np.any(dones):\n",
    "                break\n",
    "        duration = time.time() - start_time\n",
    "        max_scores.append(np.max(scores)) # save max score for each episode\n",
    "        scores_window.append(max_scores[-1]) # save max score to window\n",
    "        avgs.append(np.mean(scores_window)) # save average\n",
    "        \n",
    "        if i_episode % print_interval == 0:\n",
    "            print(\"\\rEpisode {} ({}s)\\tMax score: {:.3f}\\tAverage: {:.3f}\"\\\n",
    "                  .format(i_episode, round(duration), max_scores[-1], avgs[-1]))\n",
    "        if avgs[-1] >= 0.5:\n",
    "            print(\"\\nEnvironment solved in {:d} episodes.\\tAverage score: {:.3f}\"\\\n",
    "                 .format(i_episode, avgs[-1]))\n",
    "            torch.save(agent.actor_local.state_dict(), actor_weights_name)\n",
    "            torch.save(agent.critic_local.state_dict(), critic_weights_name)\n",
    "            break\n",
    "            \n",
    "    return max_scores, avgs"
   ]
  },
  {
   "cell_type": "code",
   "execution_count": 8,
   "metadata": {},
   "outputs": [],
   "source": [
    "# start the training loop\n",
    "agent = Agent(state_size=state_size, action_size=action_size, random_seed=777)"
   ]
  },
  {
   "cell_type": "code",
   "execution_count": 9,
   "metadata": {},
   "outputs": [
    {
     "name": "stdout",
     "output_type": "stream",
     "text": [
      "Episode 10 (4s)\tMax score: 0.000\tAverage: 0.000\n",
      "Episode 20 (4s)\tMax score: 0.000\tAverage: 0.000\n",
      "Episode 30 (4s)\tMax score: 0.000\tAverage: 0.000\n",
      "Episode 40 (4s)\tMax score: 0.000\tAverage: 0.002\n",
      "Episode 50 (4s)\tMax score: 0.000\tAverage: 0.004\n",
      "Episode 60 (4s)\tMax score: 0.000\tAverage: 0.011\n",
      "Episode 70 (25s)\tMax score: 0.200\tAverage: 0.024\n",
      "Episode 80 (9s)\tMax score: 0.100\tAverage: 0.030\n",
      "Episode 90 (8s)\tMax score: 0.100\tAverage: 0.037\n",
      "Episode 100 (8s)\tMax score: 0.090\tAverage: 0.042\n",
      "Episode 110 (8s)\tMax score: 0.100\tAverage: 0.054\n",
      "Episode 120 (15s)\tMax score: 0.100\tAverage: 0.066\n",
      "Episode 130 (9s)\tMax score: 0.090\tAverage: 0.079\n",
      "Episode 140 (15s)\tMax score: 0.100\tAverage: 0.094\n",
      "Episode 150 (9s)\tMax score: 0.100\tAverage: 0.109\n",
      "Episode 160 (19s)\tMax score: 0.190\tAverage: 0.120\n",
      "Episode 170 (13s)\tMax score: 0.100\tAverage: 0.134\n",
      "Episode 180 (5s)\tMax score: 0.000\tAverage: 0.143\n",
      "Episode 190 (18s)\tMax score: 0.190\tAverage: 0.174\n",
      "Episode 200 (33s)\tMax score: 0.300\tAverage: 0.223\n",
      "Episode 210 (146s)\tMax score: 1.400\tAverage: 0.294\n",
      "Episode 220 (18s)\tMax score: 0.100\tAverage: 0.311\n",
      "Episode 230 (15s)\tMax score: 0.100\tAverage: 0.352\n",
      "Episode 240 (16s)\tMax score: 0.200\tAverage: 0.403\n",
      "Episode 250 (30s)\tMax score: 0.300\tAverage: 0.493\n",
      "\n",
      "Environment solved in 255 episodes.\tAverage score: 0.506\n"
     ]
    }
   ],
   "source": [
    "with active_session():\n",
    "    scores, avgs = ddpg(actor_weights_name ='actor_tennis.pth', critic_weights_name='critic_tennis.pth')"
   ]
  },
  {
   "cell_type": "code",
   "execution_count": 10,
   "metadata": {},
   "outputs": [
    {
     "data": {
      "image/png": "[encoded data removed]",
      "text/plain": [
       "<matplotlib.figure.Figure at 0x7f88f55895f8>"
      ]
     },
     "metadata": {
      "needs_background": "light"
     },
     "output_type": "display_data"
    }
   ],
   "source": [
    "# plot scores across episodes\n",
    "fig = plt.figure()\n",
    "ax = fig.add_subplot(111)\n",
    "plt.plot(np.arange(len(scores)), scores, label='DDPG')\n",
    "plt.plot(np.arange(len(scores)), avgs, c='r', label='Average')\n",
    "plt.ylabel('Score')\n",
    "plt.xlabel('Episode')\n",
    "plt.legend(loc='upper left');\n",
    "plt.show()"
   ]
  },
  {
   "cell_type": "code",
   "execution_count": 11,
   "metadata": {},
   "outputs": [],
   "source": [
    "env.close()"
   ]
  }
 ],
 "metadata": {
  "kernelspec": {
   "display_name": "Python 3",
   "language": "python",
   "name": "python3"
  },
  "language_info": {
   "codemirror_mode": {
    "name": "ipython",
    "version": 3
   },
   "file_extension": ".py",
   "mimetype": "text/x-python",
   "name": "python",
   "nbconvert_exporter": "python",
   "pygments_lexer": "ipython3",
   "version": "3.6.3"
  }
 },
 "nbformat": 4,
 "nbformat_minor": 2
}
